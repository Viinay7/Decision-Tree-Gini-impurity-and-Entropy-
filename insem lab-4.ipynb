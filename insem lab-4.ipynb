{
 "cells": [
  {
   "cell_type": "code",
   "execution_count": 2,
   "id": "312d1c7c",
   "metadata": {},
   "outputs": [
    {
     "data": {
      "text/plain": [
       "array([1, 1, 0], dtype=int64)"
      ]
     },
     "execution_count": 2,
     "metadata": {},
     "output_type": "execute_result"
    }
   ],
   "source": [
    "import pandas as pd\n",
    "from sklearn.tree import DecisionTreeClassifier\n",
    "\n",
    "# Recreate the DataFrame from the provided data\n",
    "data = {\n",
    "    'Weight(grams)': [170, 175, 180, 178, 182, 130, 120, 130, 138, 145],\n",
    "    'Smooth(Range of 1 to 10)': [9, 10, 8, 8, 7, 3, 4, 2, 5, 6],\n",
    "    'Fruit': [1, 1, 1, 1, 1, 0, 0, 0, 0, 0]\n",
    "}\n",
    "\n",
    "df = pd.DataFrame(data)\n",
    "\n",
    "# Preparing the data for the decision tree\n",
    "X = df[['Weight(grams)', 'Smooth(Range of 1 to 10)']]\n",
    "y = df['Fruit']\n",
    "\n",
    "# Creating and training the decision tree classifier\n",
    "clf = DecisionTreeClassifier(random_state=0)\n",
    "clf.fit(X, y)\n",
    "\n",
    "# Creating new data for prediction\n",
    "new_data = pd.DataFrame({\n",
    "    'Weight(grams)': [180, 140, 150],\n",
    "    'Smooth(Range of 1 to 10)': [7, 8, 5]\n",
    "})\n",
    "\n",
    "# Predicting the fruit types for the new data\n",
    "predictions = clf.predict(new_data)\n",
    "predictions\n"
   ]
  },
  {
   "cell_type": "code",
   "execution_count": 3,
   "id": "2abd2090",
   "metadata": {},
   "outputs": [
    {
     "name": "stdout",
     "output_type": "stream",
     "text": [
      "Requirement already satisfied: pandas in c:\\users\\viina\\anaconda3\\lib\\site-packages (1.5.3)\n",
      "Requirement already satisfied: scikit-learn in c:\\users\\viina\\anaconda3\\lib\\site-packages (1.2.1)\n",
      "Requirement already satisfied: openpyxl in c:\\users\\viina\\anaconda3\\lib\\site-packages (3.0.10)\n",
      "Requirement already satisfied: pytz>=2020.1 in c:\\users\\viina\\anaconda3\\lib\\site-packages (from pandas) (2022.7)\n",
      "Requirement already satisfied: python-dateutil>=2.8.1 in c:\\users\\viina\\anaconda3\\lib\\site-packages (from pandas) (2.8.2)\n",
      "Requirement already satisfied: numpy>=1.21.0 in c:\\users\\viina\\anaconda3\\lib\\site-packages (from pandas) (1.23.5)\n",
      "Requirement already satisfied: joblib>=1.1.1 in c:\\users\\viina\\anaconda3\\lib\\site-packages (from scikit-learn) (1.1.1)\n",
      "Requirement already satisfied: threadpoolctl>=2.0.0 in c:\\users\\viina\\anaconda3\\lib\\site-packages (from scikit-learn) (2.2.0)\n",
      "Requirement already satisfied: scipy>=1.3.2 in c:\\users\\viina\\anaconda3\\lib\\site-packages (from scikit-learn) (1.10.0)\n",
      "Requirement already satisfied: et_xmlfile in c:\\users\\viina\\anaconda3\\lib\\site-packages (from openpyxl) (1.1.0)\n",
      "Requirement already satisfied: six>=1.5 in c:\\users\\viina\\anaconda3\\lib\\site-packages (from python-dateutil>=2.8.1->pandas) (1.16.0)\n",
      "Note: you may need to restart the kernel to use updated packages.\n"
     ]
    }
   ],
   "source": [
    "pip install pandas scikit-learn openpyxl\n"
   ]
  },
  {
   "cell_type": "code",
   "execution_count": 5,
   "id": "ac7b497f",
   "metadata": {},
   "outputs": [
    {
     "name": "stdout",
     "output_type": "stream",
     "text": [
      "   Pregnancies  Glucose  BloodPressure  SkinThickness  Insulin  Weight  \\\n",
      "0            6      148             72             35        0      40   \n",
      "1            1       85             66             29        0      44   \n",
      "2            8      183             64              0        0      90   \n",
      "3            1       89             66             23       94      74   \n",
      "4            0      137             40             35      168      45   \n",
      "\n",
      "   DiabetesPedigreeFunction  Age  Outcome  \n",
      "0                     0.627   50        1  \n",
      "1                     0.351   31        0  \n",
      "2                     0.672   32        1  \n",
      "3                     0.167   21        0  \n",
      "4                     2.288   33        1  \n"
     ]
    }
   ],
   "source": [
    "import pandas as pd\n",
    "\n",
    "# Load the diabetes dataset\n",
    "file_path = 'C:/Users/viina/Downloads/diabetes.xlsx'\n",
    "diabetes_data = pd.read_excel(file_path)\n",
    "print(diabetes_data.head())\n"
   ]
  },
  {
   "cell_type": "code",
   "execution_count": 6,
   "id": "67f52418",
   "metadata": {},
   "outputs": [
    {
     "name": "stdout",
     "output_type": "stream",
     "text": [
      "                          Pregnancies   Glucose  BloodPressure  SkinThickness  \\\n",
      "Pregnancies                  1.000000  0.129459       0.141282      -0.081672   \n",
      "Glucose                      0.129459  1.000000       0.152590       0.057328   \n",
      "BloodPressure                0.141282  0.152590       1.000000       0.207371   \n",
      "SkinThickness               -0.081672  0.057328       0.207371       1.000000   \n",
      "Insulin                     -0.073535  0.331357       0.088933       0.436783   \n",
      "Weight                       0.027202 -0.023913      -0.014865      -0.013205   \n",
      "DiabetesPedigreeFunction    -0.033523  0.137337       0.041265       0.183928   \n",
      "Age                          0.544341  0.263514       0.239528      -0.113970   \n",
      "Outcome                      0.221898  0.466581       0.065068       0.074752   \n",
      "\n",
      "                           Insulin    Weight  DiabetesPedigreeFunction  \\\n",
      "Pregnancies              -0.073535  0.027202                 -0.033523   \n",
      "Glucose                   0.331357 -0.023913                  0.137337   \n",
      "BloodPressure             0.088933 -0.014865                  0.041265   \n",
      "SkinThickness             0.436783 -0.013205                  0.183928   \n",
      "Insulin                   1.000000 -0.019453                  0.185071   \n",
      "Weight                   -0.019453  1.000000                 -0.002574   \n",
      "DiabetesPedigreeFunction  0.185071 -0.002574                  1.000000   \n",
      "Age                      -0.042163 -0.054761                  0.033561   \n",
      "Outcome                   0.130548  0.030798                  0.173844   \n",
      "\n",
      "                               Age   Outcome  \n",
      "Pregnancies               0.544341  0.221898  \n",
      "Glucose                   0.263514  0.466581  \n",
      "BloodPressure             0.239528  0.065068  \n",
      "SkinThickness            -0.113970  0.074752  \n",
      "Insulin                  -0.042163  0.130548  \n",
      "Weight                   -0.054761  0.030798  \n",
      "DiabetesPedigreeFunction  0.033561  0.173844  \n",
      "Age                       1.000000  0.238356  \n",
      "Outcome                   0.238356  1.000000  \n"
     ]
    }
   ],
   "source": [
    "#Step 2: Find the Correlation Matrix\n",
    "\n",
    "# Calculate the correlation matrix\n",
    "correlation_matrix = diabetes_data.corr()\n",
    "print(correlation_matrix)\n"
   ]
  },
  {
   "cell_type": "code",
   "execution_count": 11,
   "id": "31c023cd",
   "metadata": {},
   "outputs": [],
   "source": [
    "#Step 3: Split the Dataset into Train and Test Sets\n",
    "\n",
    "from sklearn.model_selection import train_test_split\n",
    "\n",
    "# Assuming the target column is named 'Outcome'\n",
    "target_column = 'Outcome'\n",
    "\n",
    "# Split the dataset\n",
    "train_set, test_set = train_test_split(diabetes_data, test_size=0.3, random_state=0)\n",
    "\n",
    "# Separate features and target\n",
    "X_train = train_set.drop(columns=[target_column])\n",
    "y_train = train_set[target_column]\n",
    "X_test = test_set.drop(columns=[target_column])\n",
    "y_test = test_set[target_column]\n"
   ]
  },
  {
   "cell_type": "code",
   "execution_count": 13,
   "id": "2a7b9683",
   "metadata": {},
   "outputs": [
    {
     "data": {
      "text/html": [
       "<style>#sk-container-id-1 {color: black;background-color: white;}#sk-container-id-1 pre{padding: 0;}#sk-container-id-1 div.sk-toggleable {background-color: white;}#sk-container-id-1 label.sk-toggleable__label {cursor: pointer;display: block;width: 100%;margin-bottom: 0;padding: 0.3em;box-sizing: border-box;text-align: center;}#sk-container-id-1 label.sk-toggleable__label-arrow:before {content: \"▸\";float: left;margin-right: 0.25em;color: #696969;}#sk-container-id-1 label.sk-toggleable__label-arrow:hover:before {color: black;}#sk-container-id-1 div.sk-estimator:hover label.sk-toggleable__label-arrow:before {color: black;}#sk-container-id-1 div.sk-toggleable__content {max-height: 0;max-width: 0;overflow: hidden;text-align: left;background-color: #f0f8ff;}#sk-container-id-1 div.sk-toggleable__content pre {margin: 0.2em;color: black;border-radius: 0.25em;background-color: #f0f8ff;}#sk-container-id-1 input.sk-toggleable__control:checked~div.sk-toggleable__content {max-height: 200px;max-width: 100%;overflow: auto;}#sk-container-id-1 input.sk-toggleable__control:checked~label.sk-toggleable__label-arrow:before {content: \"▾\";}#sk-container-id-1 div.sk-estimator input.sk-toggleable__control:checked~label.sk-toggleable__label {background-color: #d4ebff;}#sk-container-id-1 div.sk-label input.sk-toggleable__control:checked~label.sk-toggleable__label {background-color: #d4ebff;}#sk-container-id-1 input.sk-hidden--visually {border: 0;clip: rect(1px 1px 1px 1px);clip: rect(1px, 1px, 1px, 1px);height: 1px;margin: -1px;overflow: hidden;padding: 0;position: absolute;width: 1px;}#sk-container-id-1 div.sk-estimator {font-family: monospace;background-color: #f0f8ff;border: 1px dotted black;border-radius: 0.25em;box-sizing: border-box;margin-bottom: 0.5em;}#sk-container-id-1 div.sk-estimator:hover {background-color: #d4ebff;}#sk-container-id-1 div.sk-parallel-item::after {content: \"\";width: 100%;border-bottom: 1px solid gray;flex-grow: 1;}#sk-container-id-1 div.sk-label:hover label.sk-toggleable__label {background-color: #d4ebff;}#sk-container-id-1 div.sk-serial::before {content: \"\";position: absolute;border-left: 1px solid gray;box-sizing: border-box;top: 0;bottom: 0;left: 50%;z-index: 0;}#sk-container-id-1 div.sk-serial {display: flex;flex-direction: column;align-items: center;background-color: white;padding-right: 0.2em;padding-left: 0.2em;position: relative;}#sk-container-id-1 div.sk-item {position: relative;z-index: 1;}#sk-container-id-1 div.sk-parallel {display: flex;align-items: stretch;justify-content: center;background-color: white;position: relative;}#sk-container-id-1 div.sk-item::before, #sk-container-id-1 div.sk-parallel-item::before {content: \"\";position: absolute;border-left: 1px solid gray;box-sizing: border-box;top: 0;bottom: 0;left: 50%;z-index: -1;}#sk-container-id-1 div.sk-parallel-item {display: flex;flex-direction: column;z-index: 1;position: relative;background-color: white;}#sk-container-id-1 div.sk-parallel-item:first-child::after {align-self: flex-end;width: 50%;}#sk-container-id-1 div.sk-parallel-item:last-child::after {align-self: flex-start;width: 50%;}#sk-container-id-1 div.sk-parallel-item:only-child::after {width: 0;}#sk-container-id-1 div.sk-dashed-wrapped {border: 1px dashed gray;margin: 0 0.4em 0.5em 0.4em;box-sizing: border-box;padding-bottom: 0.4em;background-color: white;}#sk-container-id-1 div.sk-label label {font-family: monospace;font-weight: bold;display: inline-block;line-height: 1.2em;}#sk-container-id-1 div.sk-label-container {text-align: center;}#sk-container-id-1 div.sk-container {/* jupyter's `normalize.less` sets `[hidden] { display: none; }` but bootstrap.min.css set `[hidden] { display: none !important; }` so we also need the `!important` here to be able to override the default hidden behavior on the sphinx rendered scikit-learn.org. See: https://github.com/scikit-learn/scikit-learn/issues/21755 */display: inline-block !important;position: relative;}#sk-container-id-1 div.sk-text-repr-fallback {display: none;}</style><div id=\"sk-container-id-1\" class=\"sk-top-container\"><div class=\"sk-text-repr-fallback\"><pre>DecisionTreeClassifier(random_state=0)</pre><b>In a Jupyter environment, please rerun this cell to show the HTML representation or trust the notebook. <br />On GitHub, the HTML representation is unable to render, please try loading this page with nbviewer.org.</b></div><div class=\"sk-container\" hidden><div class=\"sk-item\"><div class=\"sk-estimator sk-toggleable\"><input class=\"sk-toggleable__control sk-hidden--visually\" id=\"sk-estimator-id-1\" type=\"checkbox\" checked><label for=\"sk-estimator-id-1\" class=\"sk-toggleable__label sk-toggleable__label-arrow\">DecisionTreeClassifier</label><div class=\"sk-toggleable__content\"><pre>DecisionTreeClassifier(random_state=0)</pre></div></div></div></div></div>"
      ],
      "text/plain": [
       "DecisionTreeClassifier(random_state=0)"
      ]
     },
     "execution_count": 13,
     "metadata": {},
     "output_type": "execute_result"
    }
   ],
   "source": [
    "\n",
    "#Step 4: Produce Decision Tree Models\n",
    "#a. Gini Index\n",
    "from sklearn.tree import DecisionTreeClassifier\n",
    "\n",
    "# Train the model using Gini index\n",
    "clf_gini = DecisionTreeClassifier(criterion='gini', random_state=0)\n",
    "clf_gini.fit(X_train, y_train)\n"
   ]
  },
  {
   "cell_type": "code",
   "execution_count": 14,
   "id": "79068033",
   "metadata": {},
   "outputs": [
    {
     "data": {
      "text/html": [
       "<style>#sk-container-id-2 {color: black;background-color: white;}#sk-container-id-2 pre{padding: 0;}#sk-container-id-2 div.sk-toggleable {background-color: white;}#sk-container-id-2 label.sk-toggleable__label {cursor: pointer;display: block;width: 100%;margin-bottom: 0;padding: 0.3em;box-sizing: border-box;text-align: center;}#sk-container-id-2 label.sk-toggleable__label-arrow:before {content: \"▸\";float: left;margin-right: 0.25em;color: #696969;}#sk-container-id-2 label.sk-toggleable__label-arrow:hover:before {color: black;}#sk-container-id-2 div.sk-estimator:hover label.sk-toggleable__label-arrow:before {color: black;}#sk-container-id-2 div.sk-toggleable__content {max-height: 0;max-width: 0;overflow: hidden;text-align: left;background-color: #f0f8ff;}#sk-container-id-2 div.sk-toggleable__content pre {margin: 0.2em;color: black;border-radius: 0.25em;background-color: #f0f8ff;}#sk-container-id-2 input.sk-toggleable__control:checked~div.sk-toggleable__content {max-height: 200px;max-width: 100%;overflow: auto;}#sk-container-id-2 input.sk-toggleable__control:checked~label.sk-toggleable__label-arrow:before {content: \"▾\";}#sk-container-id-2 div.sk-estimator input.sk-toggleable__control:checked~label.sk-toggleable__label {background-color: #d4ebff;}#sk-container-id-2 div.sk-label input.sk-toggleable__control:checked~label.sk-toggleable__label {background-color: #d4ebff;}#sk-container-id-2 input.sk-hidden--visually {border: 0;clip: rect(1px 1px 1px 1px);clip: rect(1px, 1px, 1px, 1px);height: 1px;margin: -1px;overflow: hidden;padding: 0;position: absolute;width: 1px;}#sk-container-id-2 div.sk-estimator {font-family: monospace;background-color: #f0f8ff;border: 1px dotted black;border-radius: 0.25em;box-sizing: border-box;margin-bottom: 0.5em;}#sk-container-id-2 div.sk-estimator:hover {background-color: #d4ebff;}#sk-container-id-2 div.sk-parallel-item::after {content: \"\";width: 100%;border-bottom: 1px solid gray;flex-grow: 1;}#sk-container-id-2 div.sk-label:hover label.sk-toggleable__label {background-color: #d4ebff;}#sk-container-id-2 div.sk-serial::before {content: \"\";position: absolute;border-left: 1px solid gray;box-sizing: border-box;top: 0;bottom: 0;left: 50%;z-index: 0;}#sk-container-id-2 div.sk-serial {display: flex;flex-direction: column;align-items: center;background-color: white;padding-right: 0.2em;padding-left: 0.2em;position: relative;}#sk-container-id-2 div.sk-item {position: relative;z-index: 1;}#sk-container-id-2 div.sk-parallel {display: flex;align-items: stretch;justify-content: center;background-color: white;position: relative;}#sk-container-id-2 div.sk-item::before, #sk-container-id-2 div.sk-parallel-item::before {content: \"\";position: absolute;border-left: 1px solid gray;box-sizing: border-box;top: 0;bottom: 0;left: 50%;z-index: -1;}#sk-container-id-2 div.sk-parallel-item {display: flex;flex-direction: column;z-index: 1;position: relative;background-color: white;}#sk-container-id-2 div.sk-parallel-item:first-child::after {align-self: flex-end;width: 50%;}#sk-container-id-2 div.sk-parallel-item:last-child::after {align-self: flex-start;width: 50%;}#sk-container-id-2 div.sk-parallel-item:only-child::after {width: 0;}#sk-container-id-2 div.sk-dashed-wrapped {border: 1px dashed gray;margin: 0 0.4em 0.5em 0.4em;box-sizing: border-box;padding-bottom: 0.4em;background-color: white;}#sk-container-id-2 div.sk-label label {font-family: monospace;font-weight: bold;display: inline-block;line-height: 1.2em;}#sk-container-id-2 div.sk-label-container {text-align: center;}#sk-container-id-2 div.sk-container {/* jupyter's `normalize.less` sets `[hidden] { display: none; }` but bootstrap.min.css set `[hidden] { display: none !important; }` so we also need the `!important` here to be able to override the default hidden behavior on the sphinx rendered scikit-learn.org. See: https://github.com/scikit-learn/scikit-learn/issues/21755 */display: inline-block !important;position: relative;}#sk-container-id-2 div.sk-text-repr-fallback {display: none;}</style><div id=\"sk-container-id-2\" class=\"sk-top-container\"><div class=\"sk-text-repr-fallback\"><pre>DecisionTreeClassifier(criterion=&#x27;entropy&#x27;, random_state=0)</pre><b>In a Jupyter environment, please rerun this cell to show the HTML representation or trust the notebook. <br />On GitHub, the HTML representation is unable to render, please try loading this page with nbviewer.org.</b></div><div class=\"sk-container\" hidden><div class=\"sk-item\"><div class=\"sk-estimator sk-toggleable\"><input class=\"sk-toggleable__control sk-hidden--visually\" id=\"sk-estimator-id-2\" type=\"checkbox\" checked><label for=\"sk-estimator-id-2\" class=\"sk-toggleable__label sk-toggleable__label-arrow\">DecisionTreeClassifier</label><div class=\"sk-toggleable__content\"><pre>DecisionTreeClassifier(criterion=&#x27;entropy&#x27;, random_state=0)</pre></div></div></div></div></div>"
      ],
      "text/plain": [
       "DecisionTreeClassifier(criterion='entropy', random_state=0)"
      ]
     },
     "execution_count": 14,
     "metadata": {},
     "output_type": "execute_result"
    }
   ],
   "source": [
    "#b. Entropy and Information Gain\n",
    "# Train the model using Entropy\n",
    "clf_entropy = DecisionTreeClassifier(criterion='entropy', random_state=0)\n",
    "clf_entropy.fit(X_train, y_train)"
   ]
  },
  {
   "cell_type": "code",
   "execution_count": 15,
   "id": "da03ac86",
   "metadata": {},
   "outputs": [],
   "source": [
    "#Step 5: Apply Prediction Measures\n",
    "\n",
    "# Predictions using Gini index\n",
    "y_pred_gini = clf_gini.predict(X_test)\n",
    "\n",
    "# Predictions using Entropy\n",
    "y_pred_entropy = clf_entropy.predict(X_test)"
   ]
  },
  {
   "cell_type": "code",
   "execution_count": 17,
   "id": "4f7bfa1a",
   "metadata": {},
   "outputs": [
    {
     "name": "stdout",
     "output_type": "stream",
     "text": [
      "Accuracy (Gini): 0.6796536796536796, Correct Predictions: 157\n",
      "Accuracy (Entropy): 0.7012987012987013, Correct Predictions: 162\n"
     ]
    }
   ],
   "source": [
    "#Step 6: Define Accuracy Score Function\n",
    "\n",
    "from sklearn.metrics import accuracy_score, confusion_matrix, precision_score, recall_score, f1_score, roc_curve, auc, precision_recall_curve\n",
    "\n",
    "# Accuracy Score\n",
    "def custom_accuracy_score(y_true, y_pred):\n",
    "    correct_predictions = sum(y_true == y_pred)\n",
    "    total_predictions = len(y_true)\n",
    "    accuracy = correct_predictions / total_predictions\n",
    "    return accuracy, correct_predictions\n",
    "\n",
    "accuracy_gini, correct_predictions_gini = custom_accuracy_score(y_test, y_pred_gini)\n",
    "accuracy_entropy, correct_predictions_entropy = custom_accuracy_score(y_test, y_pred_entropy)\n",
    "print(f'Accuracy (Gini): {accuracy_gini}, Correct Predictions: {correct_predictions_gini}')\n",
    "print(f'Accuracy (Entropy): {accuracy_entropy}, Correct Predictions: {correct_predictions_entropy}')\n"
   ]
  },
  {
   "cell_type": "code",
   "execution_count": 18,
   "id": "878a05db",
   "metadata": {},
   "outputs": [
    {
     "name": "stdout",
     "output_type": "stream",
     "text": [
      "Confusion Matrix (Gini):\n",
      "[[116  41]\n",
      " [ 33  41]]\n",
      "Confusion Matrix (Entropy):\n",
      "[[113  44]\n",
      " [ 25  49]]\n"
     ]
    }
   ],
   "source": [
    "#Step 7: Confusion Matrix\n",
    "\n",
    "# Confusion Matrix\n",
    "conf_matrix_gini = confusion_matrix(y_test, y_pred_gini)\n",
    "conf_matrix_entropy = confusion_matrix(y_test, y_pred_entropy)\n",
    "print(f'Confusion Matrix (Gini):\\n{conf_matrix_gini}')\n",
    "print(f'Confusion Matrix (Entropy):\\n{conf_matrix_entropy}')\n",
    "\n"
   ]
  },
  {
   "cell_type": "code",
   "execution_count": 19,
   "id": "f0cfde45",
   "metadata": {
    "scrolled": true
   },
   "outputs": [
    {
     "name": "stdout",
     "output_type": "stream",
     "text": [
      "Metrics (Gini): (0.6796536796536796, 0.3203463203463204, 0.5, 0.5540540540540541, 0.5256410256410257, 0.7388535031847133)\n",
      "Metrics (Entropy): (0.7012987012987013, 0.2987012987012987, 0.5268817204301075, 0.6621621621621622, 0.5868263473053892, 0.7197452229299363)\n"
     ]
    }
   ],
   "source": [
    "#Step 8: Calculate Additional Metrics\n",
    "\n",
    "# Manual calculations from confusion matrix\n",
    "def calculate_metrics(conf_matrix):\n",
    "    TN, FP, FN, TP = conf_matrix.ravel()\n",
    "    accuracy = (TP + TN) / (TP + TN + FP + FN)\n",
    "    error_rate = 1 - accuracy\n",
    "    precision = TP / (TP + FP)\n",
    "    recall = TP / (TP + FN)\n",
    "    specificity = TN / (TN + FP)\n",
    "    f1 = 2 * (precision * recall) / (precision + recall)\n",
    "    return accuracy, error_rate, precision, recall, f1, specificity\n",
    "\n",
    "metrics_gini = calculate_metrics(conf_matrix_gini)\n",
    "metrics_entropy = calculate_metrics(conf_matrix_entropy)\n",
    "print(f'Metrics (Gini): {metrics_gini}')\n",
    "print(f'Metrics (Entropy): {metrics_entropy}')\n"
   ]
  },
  {
   "cell_type": "code",
   "execution_count": 20,
   "id": "9927b418",
   "metadata": {},
   "outputs": [],
   "source": [
    "#Step 9: Compare Results\n",
    "\n",
    "# Compare Gini and Entropy results"
   ]
  },
  {
   "cell_type": "code",
   "execution_count": 6,
   "id": "61f890db",
   "metadata": {},
   "outputs": [
    {
     "data": {
      "image/png": "[encoded data removed]",
      "text/plain": [
       "<Figure size 640x480 with 1 Axes>"
      ]
     },
     "metadata": {},
     "output_type": "display_data"
    },
    {
     "name": "stdout",
     "output_type": "stream",
     "text": [
      "AUC (Gini): 0.9437830687830687\n",
      "AUC (Entropy): 0.958994708994709\n"
     ]
    }
   ],
   "source": [
    "from sklearn.tree import DecisionTreeClassifier\n",
    "from sklearn.metrics import roc_curve, roc_auc_score\n",
    "import matplotlib.pyplot as plt\n",
    "from sklearn.model_selection import train_test_split\n",
    "from sklearn.datasets import load_breast_cancer\n",
    "\n",
    "# Load a sample dataset\n",
    "data = load_breast_cancer()\n",
    "X = data.data\n",
    "y = data.target\n",
    "\n",
    "# Split the dataset into training and testing sets\n",
    "X_train, X_test, y_train, y_test = train_test_split(X, y, test_size=0.3, random_state=42)\n",
    "\n",
    "# Train classifiers with Gini and Entropy criteria\n",
    "clf_gini = DecisionTreeClassifier(criterion='gini', random_state=42)\n",
    "clf_entropy = DecisionTreeClassifier(criterion='entropy', random_state=42)\n",
    "\n",
    "clf_gini.fit(X_train, y_train)\n",
    "clf_entropy.fit(X_train, y_train)\n",
    "\n",
    "# Predict probabilities for each class\n",
    "y_pred_proba_gini = clf_gini.predict_proba(X_test)[:, 1]\n",
    "y_pred_proba_entropy = clf_entropy.predict_proba(X_test)[:, 1]\n",
    "\n",
    "# Calculate the ROC curve\n",
    "fpr_gini, tpr_gini, _ = roc_curve(y_test, y_pred_proba_gini)\n",
    "fpr_entropy, tpr_entropy, _ = roc_curve(y_test, y_pred_proba_entropy)\n",
    "\n",
    "# Calculate the AUC\n",
    "auc_gini = roc_auc_score(y_test, y_pred_proba_gini)\n",
    "auc_entropy = roc_auc_score(y_test, y_pred_proba_entropy)\n",
    "\n",
    "# Plot ROC curve\n",
    "plt.figure()\n",
    "plt.plot(fpr_gini, tpr_gini, color='darkorange', lw=2, label='ROC curve (Gini) (area = %0.2f)' % auc_gini)\n",
    "plt.plot(fpr_entropy, tpr_entropy, color='green', lw=2, label='ROC curve (Entropy) (area = %0.2f)' % auc_entropy)\n",
    "plt.plot([0, 1], [0, 1], color='navy', lw=2, linestyle='--')\n",
    "plt.xlim([0.0, 1.0])\n",
    "plt.ylim([0.0, 1.05])\n",
    "plt.xlabel('False Positive Rate')\n",
    "plt.ylabel('True Positive Rate')\n",
    "plt.title('Receiver Operating Characteristic')\n",
    "plt.legend(loc=\"lower right\")\n",
    "plt.show()\n",
    "\n",
    "# Output AUC values\n",
    "print(f'AUC (Gini): {auc_gini}')\n",
    "print(f'AUC (Entropy): {auc_entropy}')\n"
   ]
  },
  {
   "cell_type": "code",
   "execution_count": null,
   "id": "f6b655b5",
   "metadata": {},
   "outputs": [],
   "source": []
  }
 ],
 "metadata": {
  "kernelspec": {
   "display_name": "Python 3 (ipykernel)",
   "language": "python",
   "name": "python3"
  },
  "language_info": {
   "codemirror_mode": {
    "name": "ipython",
    "version": 3
   },
   "file_extension": ".py",
   "mimetype": "text/x-python",
   "name": "python",
   "nbconvert_exporter": "python",
   "pygments_lexer": "ipython3",
   "version": "3.10.9"
  }
 },
 "nbformat": 4,
 "nbformat_minor": 5
}
